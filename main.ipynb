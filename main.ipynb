{
 "cells": [
  {
   "cell_type": "code",
   "execution_count": 5,
   "metadata": {},
   "outputs": [],
   "source": [
    "import spotipy"
   ]
  },
  {
   "cell_type": "code",
   "execution_count": null,
   "metadata": {
    "scrolled": false
   },
   "outputs": [],
   "source": [
    "%env"
   ]
  },
  {
   "cell_type": "code",
   "execution_count": null,
   "metadata": {
    "scrolled": true
   },
   "outputs": [],
   "source": [
    "import spotipy\n",
    "from spotipy.oauth2 import SpotifyOAuth\n",
    "\n",
    "scopes = [ \"user-library-read\", \"playlist-read-private\", \"user-library-modify\", \n",
    "\"user-follow-read\", \"playlist-modify-private\", \"playlist-modify-public\", \n",
    "\"user-top-read\", \"user-read-recently-played\"]\n",
    "\n",
    "scope = \" \".join(scopes)\n",
    "print(scope)\n",
    "\n",
    "sp = spotipy.Spotify(auth_manager=SpotifyOAuth(scope=scope))"
   ]
  },
  {
   "cell_type": "code",
   "execution_count": null,
   "metadata": {
    "scrolled": true
   },
   "outputs": [],
   "source": [
    "sp.current_user()"
   ]
  },
  {
   "cell_type": "code",
   "execution_count": null,
   "metadata": {},
   "outputs": [],
   "source": [
    "sp.current_user_top_tracks()"
   ]
  },
  {
   "cell_type": "code",
   "execution_count": 9,
   "metadata": {},
   "outputs": [],
   "source": [
    "top_track_dict = sp.current_user_top_tracks()"
   ]
  },
  {
   "cell_type": "code",
   "execution_count": 20,
   "metadata": {},
   "outputs": [
    {
     "name": "stdout",
     "output_type": "stream",
     "text": [
      "Can Bonomo, - Güneş\n",
      "Dua Lipa, - Break My Heart\n",
      "Didomido, Eglo G, - Nimet\n",
      "Dolly Parton, - Jolene\n",
      "Ece Seçkin, - Acayip İyi\n",
      "Killa Hakan, Eko Fresh, Ayaz Kaplı, - Her Şey Yolundadır\n",
      "Grems, - Sitcom\n",
      "U2, Lykke Li, - The Troubles\n",
      "Karsu, - Jest Oldu\n",
      "Hey! Douglas, Gaye Su Akyol, - Ayva Çiçek Açmış (feat. Gaye Su Akyol)\n",
      "Jim James, - State of the Art (A.E.I.O.U.)\n",
      "Pinhani, - Yıldızlar\n",
      "Tones And I, - Dance Monkey\n",
      "Göksel, - Bu da Geçecek\n",
      "Kanye West, - Stronger\n",
      "Jakuzi, - Toz\n",
      "Future, - Mask Off\n",
      "İkiye On Kala, - Kafamda Kentsel Dönüşümler\n",
      "Surf Mesa, Emilee, - ily (i love you baby) (feat. Emilee)\n",
      "Lykke Li, - sex money feelings die\n"
     ]
    }
   ],
   "source": [
    "for item in top_track_dict['items']:\n",
    "    for k in range(len(item['artists'])):\n",
    "        print(item['artists'][k]['name'], end=\", \")\n",
    "    print('-',item['name'])"
   ]
  },
  {
   "cell_type": "code",
   "execution_count": null,
   "metadata": {},
   "outputs": [],
   "source": []
  }
 ],
 "metadata": {
  "kernelspec": {
   "display_name": "myenv",
   "language": "python",
   "name": "myenv"
  },
  "language_info": {
   "codemirror_mode": {
    "name": "ipython",
    "version": 3
   },
   "file_extension": ".py",
   "mimetype": "text/x-python",
   "name": "python",
   "nbconvert_exporter": "python",
   "pygments_lexer": "ipython3",
   "version": "3.9.1"
  }
 },
 "nbformat": 4,
 "nbformat_minor": 4
}
